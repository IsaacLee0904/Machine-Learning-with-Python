{
 "cells": [
  {
   "cell_type": "markdown",
   "metadata": {},
   "source": [
    "# CH2 - 監督式學習(經典) H.W PC"
   ]
  },
  {
   "cell_type": "markdown",
   "metadata": {},
   "source": [
    "## Import package "
   ]
  },
  {
   "cell_type": "code",
   "execution_count": 21,
   "metadata": {},
   "outputs": [],
   "source": [
    "# 載入常用套件\n",
    "import numpy as np\n",
    "import pandas as pd\n",
    "import matplotlib.pyplot as plt\n",
    "import seaborn as sns"
   ]
  },
  {
   "cell_type": "markdown",
   "metadata": {},
   "source": [
    "## Step1.Load the data : housing csv"
   ]
  },
  {
   "cell_type": "code",
   "execution_count": 22,
   "metadata": {},
   "outputs": [
    {
     "name": "stdout",
     "output_type": "stream",
     "text": [
      "<class 'pandas.core.frame.DataFrame'>\n",
      "RangeIndex: 20640 entries, 0 to 20639\n",
      "Data columns (total 7 columns):\n",
      " #   Column              Non-Null Count  Dtype  \n",
      "---  ------              --------------  -----  \n",
      " 0   housing_median_age  20640 non-null  float64\n",
      " 1   total_rooms         20640 non-null  float64\n",
      " 2   total_bedrooms      20433 non-null  float64\n",
      " 3   population          20640 non-null  float64\n",
      " 4   households          20640 non-null  float64\n",
      " 5   median_income       20640 non-null  float64\n",
      " 6   median_house_value  20640 non-null  float64\n",
      "dtypes: float64(7)\n",
      "memory usage: 1.1 MB\n"
     ]
    }
   ],
   "source": [
    "housing = pd.read_csv(r'C:\\Users\\user\\Desktop\\hw_data\\hw2&hw3\\housing.csv')\n",
    "housing = housing.iloc[: ,2:9]\n",
    "housing.info()"
   ]
  },
  {
   "cell_type": "markdown",
   "metadata": {},
   "source": [
    "## Step2.Deal with null"
   ]
  },
  {
   "cell_type": "code",
   "execution_count": 6,
   "metadata": {},
   "outputs": [
    {
     "data": {
      "text/plain": [
       "housing_median_age    False\n",
       "total_rooms           False\n",
       "total_bedrooms         True\n",
       "population            False\n",
       "households            False\n",
       "median_income         False\n",
       "median_house_value    False\n",
       "dtype: bool"
      ]
     },
     "execution_count": 6,
     "metadata": {},
     "output_type": "execute_result"
    }
   ],
   "source": [
    "# 偵測 NA\n",
    "housing.isnull().any() # there is NA in variable : total_bedrooms"
   ]
  },
  {
   "cell_type": "code",
   "execution_count": 7,
   "metadata": {},
   "outputs": [
    {
     "data": {
      "text/plain": [
       "housing_median_age    False\n",
       "total_rooms           False\n",
       "total_bedrooms        False\n",
       "population            False\n",
       "households            False\n",
       "median_income         False\n",
       "median_house_value    False\n",
       "dtype: bool"
      ]
     },
     "execution_count": 7,
     "metadata": {},
     "output_type": "execute_result"
    }
   ],
   "source": [
    "# drop the case\n",
    "cleanhs = housing.dropna()\n",
    "# check if NA had droped\n",
    "cleanhs.isnull().any() # housing without NA"
   ]
  },
  {
   "cell_type": "markdown",
   "metadata": {},
   "source": [
    "## Q1. & Q2. Split training group and testing group \n",
    "請使用 housing.csv 地區房價資料，透過 housing_median_age, total_rooms,  total_bedrooms, population, households, median_income 這幾項來預估 median_house_value。本題使用線性迴歸來作答(Linear Regression)。記得先找出資料內有無有空值，先將帶有空值的資料去除後再繼續做線性迴歸（將test_size設為0.35，而random_state則設為1進行題目）。試問透過train_test_split並以題目指定的參數切割後x_train的shape會是多少？"
   ]
  },
  {
   "cell_type": "markdown",
   "metadata": {},
   "source": [
    "## Step3. Split the data"
   ]
  },
  {
   "cell_type": "code",
   "execution_count": 8,
   "metadata": {},
   "outputs": [],
   "source": [
    "# 載入資料切割套件\n",
    "from sklearn.model_selection import train_test_split\n",
    "# 將目標參數切割出來\n",
    "housingx = cleanhs.iloc[:,0:6]\n",
    "housingy = cleanhs.iloc[:,6]"
   ]
  },
  {
   "cell_type": "code",
   "execution_count": 9,
   "metadata": {},
   "outputs": [],
   "source": [
    "# 進行切割\n",
    "x_train, x_test, y_train, y_test = train_test_split(housingx, housingy, # x,y\n",
    "                                                    test_size=0.35, \n",
    "                                                    random_state=1) # 設定seed，固定每次的訓練結果"
   ]
  },
  {
   "cell_type": "code",
   "execution_count": 10,
   "metadata": {},
   "outputs": [
    {
     "name": "stdout",
     "output_type": "stream",
     "text": [
      "x_train: (13281, 6)\n",
      "y_train: (13281,)\n",
      "x_test: (7152, 6)\n",
      "y_test: (7152,)\n"
     ]
    }
   ],
   "source": [
    "# 檢查分割後的形狀\n",
    "print('x_train:', x_train.shape)\n",
    "print('y_train:', y_train.shape)\n",
    "print('x_test:', x_test.shape)\n",
    "print('y_test:', y_test.shape)"
   ]
  },
  {
   "cell_type": "markdown",
   "metadata": {},
   "source": [
    "## Q3. Index training group and testing group \n",
    "若原本的index是亂的話記得做排序，請問第1915筆的預測後數值是多少呢？"
   ]
  },
  {
   "cell_type": "markdown",
   "metadata": {},
   "source": [
    "## Step4. Linear regression"
   ]
  },
  {
   "cell_type": "code",
   "execution_count": 11,
   "metadata": {},
   "outputs": [
    {
     "data": {
      "text/plain": [
       "LinearRegression()"
      ]
     },
     "execution_count": 11,
     "metadata": {},
     "output_type": "execute_result"
    }
   ],
   "source": [
    "# 載入線性迴歸套件\n",
    "from sklearn.linear_model import LinearRegression \n",
    "# 建立模型\n",
    "ML1 = LinearRegression() # 括號內可以放參數，因為線性迴歸是很簡單的模型，通常我們不太需要調整參數，因此這邊留空白即可。\n",
    "# 將資料餵給模型\n",
    "ML1.fit(x_train, y_train) "
   ]
  },
  {
   "cell_type": "markdown",
   "metadata": {},
   "source": [
    "## Step5. Predict \n",
    "*可以看出有時候預測值(pred_y)和真實值(actual_y)仍有些差距，此差距即為殘差(Residual)"
   ]
  },
  {
   "cell_type": "code",
   "execution_count": 12,
   "metadata": {},
   "outputs": [
    {
     "data": {
      "text/html": [
       "<div>\n",
       "<style scoped>\n",
       "    .dataframe tbody tr th:only-of-type {\n",
       "        vertical-align: middle;\n",
       "    }\n",
       "\n",
       "    .dataframe tbody tr th {\n",
       "        vertical-align: top;\n",
       "    }\n",
       "\n",
       "    .dataframe thead th {\n",
       "        text-align: right;\n",
       "    }\n",
       "</style>\n",
       "<table border=\"1\" class=\"dataframe\">\n",
       "  <thead>\n",
       "    <tr style=\"text-align: right;\">\n",
       "      <th></th>\n",
       "      <th>actual_y</th>\n",
       "      <th>pred_y</th>\n",
       "    </tr>\n",
       "  </thead>\n",
       "  <tbody>\n",
       "    <tr>\n",
       "      <th>6715</th>\n",
       "      <td>360900.0</td>\n",
       "      <td>399940.618470</td>\n",
       "    </tr>\n",
       "    <tr>\n",
       "      <th>4121</th>\n",
       "      <td>291500.0</td>\n",
       "      <td>281088.992769</td>\n",
       "    </tr>\n",
       "    <tr>\n",
       "      <th>15433</th>\n",
       "      <td>131300.0</td>\n",
       "      <td>125806.433617</td>\n",
       "    </tr>\n",
       "    <tr>\n",
       "      <th>20272</th>\n",
       "      <td>500001.0</td>\n",
       "      <td>299045.562786</td>\n",
       "    </tr>\n",
       "    <tr>\n",
       "      <th>11843</th>\n",
       "      <td>118800.0</td>\n",
       "      <td>135898.724171</td>\n",
       "    </tr>\n",
       "    <tr>\n",
       "      <th>...</th>\n",
       "      <td>...</td>\n",
       "      <td>...</td>\n",
       "    </tr>\n",
       "    <tr>\n",
       "      <th>555</th>\n",
       "      <td>162500.0</td>\n",
       "      <td>171076.341242</td>\n",
       "    </tr>\n",
       "    <tr>\n",
       "      <th>19807</th>\n",
       "      <td>80000.0</td>\n",
       "      <td>161583.471897</td>\n",
       "    </tr>\n",
       "    <tr>\n",
       "      <th>16679</th>\n",
       "      <td>275000.0</td>\n",
       "      <td>235336.922640</td>\n",
       "    </tr>\n",
       "    <tr>\n",
       "      <th>12401</th>\n",
       "      <td>102600.0</td>\n",
       "      <td>186784.879397</td>\n",
       "    </tr>\n",
       "    <tr>\n",
       "      <th>12212</th>\n",
       "      <td>187500.0</td>\n",
       "      <td>130532.145151</td>\n",
       "    </tr>\n",
       "  </tbody>\n",
       "</table>\n",
       "<p>7152 rows × 2 columns</p>\n",
       "</div>"
      ],
      "text/plain": [
       "       actual_y         pred_y\n",
       "6715   360900.0  399940.618470\n",
       "4121   291500.0  281088.992769\n",
       "15433  131300.0  125806.433617\n",
       "20272  500001.0  299045.562786\n",
       "11843  118800.0  135898.724171\n",
       "...         ...            ...\n",
       "555    162500.0  171076.341242\n",
       "19807   80000.0  161583.471897\n",
       "16679  275000.0  235336.922640\n",
       "12401  102600.0  186784.879397\n",
       "12212  187500.0  130532.145151\n",
       "\n",
       "[7152 rows x 2 columns]"
      ]
     },
     "execution_count": 12,
     "metadata": {},
     "output_type": "execute_result"
    }
   ],
   "source": [
    "pred = ML1.predict(x_test)\n",
    "# 印出預測結果\n",
    "predML1 = pd.DataFrame({'actual_y':y_test,'pred_y':pred}) \n",
    "predML1"
   ]
  },
  {
   "cell_type": "code",
   "execution_count": 13,
   "metadata": {},
   "outputs": [
    {
     "name": "stdout",
     "output_type": "stream",
     "text": [
      "1915的預測結果 :\n"
     ]
    },
    {
     "data": {
      "text/plain": [
       "actual_y    303800.000000\n",
       "pred_y      208322.620949\n",
       "Name: 5482, dtype: float64"
      ]
     },
     "execution_count": 13,
     "metadata": {},
     "output_type": "execute_result"
    }
   ],
   "source": [
    "# 根據index從新排序\n",
    "spredML1 = predML1.sort_index()\n",
    "spredML1\n",
    "# 看1915筆的預測結果\n",
    "print(\"1915的預測結果 :\")\n",
    "spredML1.iloc[1914 ,:]"
   ]
  },
  {
   "cell_type": "markdown",
   "metadata": {},
   "source": [
    "## Step6.Model evaluation\n",
    "## Q4. Model evaluation with MAE, RMSE, R-square\n",
    "使用sklearn.metrics，請問MAE, RMSE, R-square分別是多少呢？"
   ]
  },
  {
   "cell_type": "code",
   "execution_count": 14,
   "metadata": {},
   "outputs": [
    {
     "name": "stdout",
     "output_type": "stream",
     "text": [
      "Linear Regressor's score: 0.5751345942795488\n"
     ]
    },
    {
     "data": {
      "text/html": [
       "<div>\n",
       "<style scoped>\n",
       "    .dataframe tbody tr th:only-of-type {\n",
       "        vertical-align: middle;\n",
       "    }\n",
       "\n",
       "    .dataframe tbody tr th {\n",
       "        vertical-align: top;\n",
       "    }\n",
       "\n",
       "    .dataframe thead th {\n",
       "        text-align: right;\n",
       "    }\n",
       "</style>\n",
       "<table border=\"1\" class=\"dataframe\">\n",
       "  <thead>\n",
       "    <tr style=\"text-align: right;\">\n",
       "      <th></th>\n",
       "      <th>R-square</th>\n",
       "      <th>MAE</th>\n",
       "      <th>MSE</th>\n",
       "      <th>RMSE</th>\n",
       "    </tr>\n",
       "  </thead>\n",
       "  <tbody>\n",
       "    <tr>\n",
       "      <th>value</th>\n",
       "      <td>0.575135</td>\n",
       "      <td>55889.434386</td>\n",
       "      <td>5.820085e+09</td>\n",
       "      <td>76289.481502</td>\n",
       "    </tr>\n",
       "  </tbody>\n",
       "</table>\n",
       "</div>"
      ],
      "text/plain": [
       "       R-square           MAE           MSE          RMSE\n",
       "value  0.575135  55889.434386  5.820085e+09  76289.481502"
      ]
     },
     "execution_count": 14,
     "metadata": {},
     "output_type": "execute_result"
    }
   ],
   "source": [
    "# 載入迴歸模型績效指標\n",
    "from sklearn.metrics import r2_score, mean_absolute_error, mean_squared_error\n",
    "# 印出預測績效(R-square)\n",
    "print(f'Linear Regressor\\'s score: {ML1.score(x_test, y_test)}') \n",
    "# 印出其他迴歸績效指標\n",
    "pd.DataFrame({'R-square': r2_score(y_test, pred), 'MAE': mean_absolute_error(y_test, pred), 'MSE': mean_squared_error(y_test, pred), 'RMSE': mean_squared_error(y_test, pred, squared=False)}, index=['value'])"
   ]
  },
  {
   "cell_type": "markdown",
   "metadata": {},
   "source": [
    "## Step1.Load the data : candy csv"
   ]
  },
  {
   "cell_type": "code",
   "execution_count": 56,
   "metadata": {},
   "outputs": [
    {
     "data": {
      "text/plain": [
       "0     66.971725\n",
       "1     67.602936\n",
       "2     32.261086\n",
       "3     46.116505\n",
       "4     52.341465\n",
       "        ...    \n",
       "80    45.466282\n",
       "81    39.011898\n",
       "82    44.375519\n",
       "83    41.904308\n",
       "84    49.524113\n",
       "Name: winpercent, Length: 85, dtype: float64"
      ]
     },
     "execution_count": 56,
     "metadata": {},
     "output_type": "execute_result"
    }
   ],
   "source": [
    "candy = pd.read_csv(r'C:\\Users\\user\\Desktop\\hw_data\\hw2&hw3\\candy-data.csv')\n",
    "candy = candy.iloc[: ,1:13] # 將目標變數切割出來\n",
    "# 模型參數 x \n",
    "candyx = candy.iloc[: , 0:11]\n",
    "candyx # ML2 x\n",
    "# 模型預測目標 y\n",
    "candyy = candy.iloc[: , 11]\n",
    "candyy # ML2 y"
   ]
  },
  {
   "cell_type": "markdown",
   "metadata": {},
   "source": [
    "變數說明 : For binary variables, 1 means yes, 0 means no. (All variables are dummy variable)\n",
    "\n",
    "+ chocolate: Does it contain chocolate?\n",
    "+ fruity: Is it fruit flavored?\n",
    "+ caramel: Is there caramel in the candy?\n",
    "+ peanutalmondy: Does it contain peanuts, peanut butter or almonds?\n",
    "+ nougat: Does it contain nougat?\n",
    "+ crispedricewafer: Does it contain crisped rice, wafers, or a cookie component?\n",
    "+ hard: Is it a hard candy?\n",
    "+ bar: Is it a candy bar?\n",
    "+ pluribus: Is it one of many candies in a bag or box?\n",
    "+ sugarpercent: The percentile of sugar it falls under within the data set.\n",
    "+ pricepercent: The unit price percentile compared to the rest of the set.\n",
    "+ winpercent: The overall win percentage according to 269,000 matchups."
   ]
  },
  {
   "cell_type": "markdown",
   "metadata": {},
   "source": [
    "## Q5. Logistic Regression\n",
    "本題使用羅吉斯迴歸 (Logistic Regression)來做預測，數值不需再做label encoder直接使用即可。今天想透過：['chocolate', 'fruity', 'caramel', 'peanutyalmondy', 'nougat', 'crispedricewafer', 'hard', 'bar', 'pluribus', 'sugarpercent', 'pricepercent']這些資料來預測最後的winpercent結果，預測如果winpercent大等於50的話為1、小於50為0，以test_size=0.25, random_state=1，透過LogisticRegression預測最終結果（記得要做標準化）。請問「預測為0且真實為0」，以及「預測為1且真實為1」的數目為多少？"
   ]
  },
  {
   "cell_type": "markdown",
   "metadata": {},
   "source": [
    "## Step2.Deal with missing data"
   ]
  },
  {
   "cell_type": "code",
   "execution_count": 16,
   "metadata": {},
   "outputs": [
    {
     "data": {
      "text/plain": [
       "chocolate           False\n",
       "fruity              False\n",
       "caramel             False\n",
       "peanutyalmondy      False\n",
       "nougat              False\n",
       "crispedricewafer    False\n",
       "hard                False\n",
       "bar                 False\n",
       "pluribus            False\n",
       "sugarpercent        False\n",
       "pricepercent        False\n",
       "winpercent          False\n",
       "dtype: bool"
      ]
     },
     "execution_count": 16,
     "metadata": {},
     "output_type": "execute_result"
    }
   ],
   "source": [
    "# 偵測 NA\n",
    "candy.isnull().any() # there is no NA in all variable"
   ]
  },
  {
   "cell_type": "markdown",
   "metadata": {},
   "source": [
    "## Step3.Sandard"
   ]
  },
  {
   "cell_type": "code",
   "execution_count": 57,
   "metadata": {},
   "outputs": [
    {
     "data": {
      "text/html": [
       "<div>\n",
       "<style scoped>\n",
       "    .dataframe tbody tr th:only-of-type {\n",
       "        vertical-align: middle;\n",
       "    }\n",
       "\n",
       "    .dataframe tbody tr th {\n",
       "        vertical-align: top;\n",
       "    }\n",
       "\n",
       "    .dataframe thead th {\n",
       "        text-align: right;\n",
       "    }\n",
       "</style>\n",
       "<table border=\"1\" class=\"dataframe\">\n",
       "  <thead>\n",
       "    <tr style=\"text-align: right;\">\n",
       "      <th></th>\n",
       "      <th>chocolate</th>\n",
       "      <th>fruity</th>\n",
       "      <th>caramel</th>\n",
       "      <th>peanutyalmondy</th>\n",
       "      <th>nougat</th>\n",
       "      <th>crispedricewafer</th>\n",
       "      <th>hard</th>\n",
       "      <th>bar</th>\n",
       "      <th>pluribus</th>\n",
       "      <th>sugarpercent</th>\n",
       "      <th>pricepercent</th>\n",
       "    </tr>\n",
       "  </thead>\n",
       "  <tbody>\n",
       "    <tr>\n",
       "      <th>0</th>\n",
       "      <td>1.138990</td>\n",
       "      <td>-0.899172</td>\n",
       "      <td>2.251983</td>\n",
       "      <td>-0.444053</td>\n",
       "      <td>-0.299572</td>\n",
       "      <td>3.338092</td>\n",
       "      <td>-0.462910</td>\n",
       "      <td>1.745743</td>\n",
       "      <td>-1.035940</td>\n",
       "      <td>0.901261</td>\n",
       "      <td>1.376914</td>\n",
       "    </tr>\n",
       "    <tr>\n",
       "      <th>1</th>\n",
       "      <td>1.138990</td>\n",
       "      <td>-0.899172</td>\n",
       "      <td>-0.444053</td>\n",
       "      <td>-0.444053</td>\n",
       "      <td>3.338092</td>\n",
       "      <td>-0.299572</td>\n",
       "      <td>-0.462910</td>\n",
       "      <td>1.745743</td>\n",
       "      <td>-1.035940</td>\n",
       "      <td>0.445922</td>\n",
       "      <td>0.148273</td>\n",
       "    </tr>\n",
       "    <tr>\n",
       "      <th>2</th>\n",
       "      <td>-0.877971</td>\n",
       "      <td>-0.899172</td>\n",
       "      <td>-0.444053</td>\n",
       "      <td>-0.444053</td>\n",
       "      <td>-0.299572</td>\n",
       "      <td>-0.299572</td>\n",
       "      <td>-0.462910</td>\n",
       "      <td>-0.572822</td>\n",
       "      <td>-1.035940</td>\n",
       "      <td>-1.663576</td>\n",
       "      <td>-1.242308</td>\n",
       "    </tr>\n",
       "    <tr>\n",
       "      <th>3</th>\n",
       "      <td>-0.877971</td>\n",
       "      <td>-0.899172</td>\n",
       "      <td>-0.444053</td>\n",
       "      <td>-0.444053</td>\n",
       "      <td>-0.299572</td>\n",
       "      <td>-0.299572</td>\n",
       "      <td>-0.462910</td>\n",
       "      <td>-0.572822</td>\n",
       "      <td>-1.035940</td>\n",
       "      <td>-1.663576</td>\n",
       "      <td>0.148273</td>\n",
       "    </tr>\n",
       "    <tr>\n",
       "      <th>4</th>\n",
       "      <td>-0.877971</td>\n",
       "      <td>1.112134</td>\n",
       "      <td>-0.444053</td>\n",
       "      <td>-0.444053</td>\n",
       "      <td>-0.299572</td>\n",
       "      <td>-0.299572</td>\n",
       "      <td>-0.462910</td>\n",
       "      <td>-0.572822</td>\n",
       "      <td>-1.035940</td>\n",
       "      <td>1.520236</td>\n",
       "      <td>0.148273</td>\n",
       "    </tr>\n",
       "    <tr>\n",
       "      <th>...</th>\n",
       "      <td>...</td>\n",
       "      <td>...</td>\n",
       "      <td>...</td>\n",
       "      <td>...</td>\n",
       "      <td>...</td>\n",
       "      <td>...</td>\n",
       "      <td>...</td>\n",
       "      <td>...</td>\n",
       "      <td>...</td>\n",
       "      <td>...</td>\n",
       "      <td>...</td>\n",
       "    </tr>\n",
       "    <tr>\n",
       "      <th>80</th>\n",
       "      <td>-0.877971</td>\n",
       "      <td>1.112134</td>\n",
       "      <td>-0.444053</td>\n",
       "      <td>-0.444053</td>\n",
       "      <td>-0.299572</td>\n",
       "      <td>-0.299572</td>\n",
       "      <td>-0.462910</td>\n",
       "      <td>-0.572822</td>\n",
       "      <td>-1.035940</td>\n",
       "      <td>-0.920093</td>\n",
       "      <td>-1.242308</td>\n",
       "    </tr>\n",
       "    <tr>\n",
       "      <th>81</th>\n",
       "      <td>-0.877971</td>\n",
       "      <td>1.112134</td>\n",
       "      <td>-0.444053</td>\n",
       "      <td>-0.444053</td>\n",
       "      <td>-0.299572</td>\n",
       "      <td>-0.299572</td>\n",
       "      <td>2.160247</td>\n",
       "      <td>-0.572822</td>\n",
       "      <td>-1.035940</td>\n",
       "      <td>-1.371875</td>\n",
       "      <td>-1.242308</td>\n",
       "    </tr>\n",
       "    <tr>\n",
       "      <th>82</th>\n",
       "      <td>-0.877971</td>\n",
       "      <td>1.112134</td>\n",
       "      <td>-0.444053</td>\n",
       "      <td>-0.444053</td>\n",
       "      <td>-0.299572</td>\n",
       "      <td>-0.299572</td>\n",
       "      <td>-0.462910</td>\n",
       "      <td>-0.572822</td>\n",
       "      <td>0.965307</td>\n",
       "      <td>-0.589262</td>\n",
       "      <td>-0.548778</td>\n",
       "    </tr>\n",
       "    <tr>\n",
       "      <th>83</th>\n",
       "      <td>-0.877971</td>\n",
       "      <td>-0.899172</td>\n",
       "      <td>2.251983</td>\n",
       "      <td>-0.444053</td>\n",
       "      <td>-0.299572</td>\n",
       "      <td>-0.299572</td>\n",
       "      <td>2.160247</td>\n",
       "      <td>-0.572822</td>\n",
       "      <td>-1.035940</td>\n",
       "      <td>-1.041043</td>\n",
       "      <td>-0.710719</td>\n",
       "    </tr>\n",
       "    <tr>\n",
       "      <th>84</th>\n",
       "      <td>1.138990</td>\n",
       "      <td>-0.899172</td>\n",
       "      <td>-0.444053</td>\n",
       "      <td>-0.444053</td>\n",
       "      <td>-0.299572</td>\n",
       "      <td>3.338092</td>\n",
       "      <td>-0.462910</td>\n",
       "      <td>-0.572822</td>\n",
       "      <td>0.965307</td>\n",
       "      <td>1.399287</td>\n",
       "      <td>1.334668</td>\n",
       "    </tr>\n",
       "  </tbody>\n",
       "</table>\n",
       "<p>85 rows × 11 columns</p>\n",
       "</div>"
      ],
      "text/plain": [
       "    chocolate    fruity   caramel  peanutyalmondy    nougat  crispedricewafer  \\\n",
       "0    1.138990 -0.899172  2.251983       -0.444053 -0.299572          3.338092   \n",
       "1    1.138990 -0.899172 -0.444053       -0.444053  3.338092         -0.299572   \n",
       "2   -0.877971 -0.899172 -0.444053       -0.444053 -0.299572         -0.299572   \n",
       "3   -0.877971 -0.899172 -0.444053       -0.444053 -0.299572         -0.299572   \n",
       "4   -0.877971  1.112134 -0.444053       -0.444053 -0.299572         -0.299572   \n",
       "..        ...       ...       ...             ...       ...               ...   \n",
       "80  -0.877971  1.112134 -0.444053       -0.444053 -0.299572         -0.299572   \n",
       "81  -0.877971  1.112134 -0.444053       -0.444053 -0.299572         -0.299572   \n",
       "82  -0.877971  1.112134 -0.444053       -0.444053 -0.299572         -0.299572   \n",
       "83  -0.877971 -0.899172  2.251983       -0.444053 -0.299572         -0.299572   \n",
       "84   1.138990 -0.899172 -0.444053       -0.444053 -0.299572          3.338092   \n",
       "\n",
       "        hard       bar  pluribus  sugarpercent  pricepercent  \n",
       "0  -0.462910  1.745743 -1.035940      0.901261      1.376914  \n",
       "1  -0.462910  1.745743 -1.035940      0.445922      0.148273  \n",
       "2  -0.462910 -0.572822 -1.035940     -1.663576     -1.242308  \n",
       "3  -0.462910 -0.572822 -1.035940     -1.663576      0.148273  \n",
       "4  -0.462910 -0.572822 -1.035940      1.520236      0.148273  \n",
       "..       ...       ...       ...           ...           ...  \n",
       "80 -0.462910 -0.572822 -1.035940     -0.920093     -1.242308  \n",
       "81  2.160247 -0.572822 -1.035940     -1.371875     -1.242308  \n",
       "82 -0.462910 -0.572822  0.965307     -0.589262     -0.548778  \n",
       "83  2.160247 -0.572822 -1.035940     -1.041043     -0.710719  \n",
       "84 -0.462910 -0.572822  0.965307      1.399287      1.334668  \n",
       "\n",
       "[85 rows x 11 columns]"
      ]
     },
     "execution_count": 57,
     "metadata": {},
     "output_type": "execute_result"
    }
   ],
   "source": [
    "# Z-score\n",
    "from sklearn.preprocessing import StandardScaler\n",
    "candy_scale = StandardScaler().fit_transform(candyx)\n",
    "finalcandy = pd.DataFrame(data=candy_scale, columns=['chocolate', 'fruity', 'caramel', 'peanutyalmondy', 'nougat', 'crispedricewafer', 'hard',\n",
    "                     'bar', 'pluribus', 'sugarpercent', 'pricepercent'])\n",
    "finalcandy"
   ]
  },
  {
   "cell_type": "markdown",
   "metadata": {},
   "source": [
    "## Step4.Split data"
   ]
  },
  {
   "cell_type": "code",
   "execution_count": 128,
   "metadata": {},
   "outputs": [
    {
     "name": "stdout",
     "output_type": "stream",
     "text": [
      "x_train: (63, 11)\n",
      "y_train: (63,)\n",
      "x_test: (22, 11)\n",
      "y_test: (22,)\n"
     ]
    }
   ],
   "source": [
    "# 將資料切成訓練組與測試組\n",
    "x_train, x_test, y_train, y_test = train_test_split(candyx, candyy, # x,y\n",
    "                                                    test_size=0.25, \n",
    "                                                    random_state=1) # 設定seed，固定每次的訓練結果\n",
    "# 檢查分割後的形狀\n",
    "print('x_train:', x_train.shape)\n",
    "print('y_train:', y_train.shape)\n",
    "print('x_test:', x_test.shape)\n",
    "print('y_test:', y_test.shape)"
   ]
  },
  {
   "cell_type": "markdown",
   "metadata": {},
   "source": [
    "## Step5.Logistic Regression "
   ]
  },
  {
   "cell_type": "code",
   "execution_count": 142,
   "metadata": {},
   "outputs": [
    {
     "data": {
      "text/html": [
       "<div>\n",
       "<style scoped>\n",
       "    .dataframe tbody tr th:only-of-type {\n",
       "        vertical-align: middle;\n",
       "    }\n",
       "\n",
       "    .dataframe tbody tr th {\n",
       "        vertical-align: top;\n",
       "    }\n",
       "\n",
       "    .dataframe thead th {\n",
       "        text-align: right;\n",
       "    }\n",
       "</style>\n",
       "<table border=\"1\" class=\"dataframe\">\n",
       "  <thead>\n",
       "    <tr style=\"text-align: right;\">\n",
       "      <th></th>\n",
       "      <th>actual_y</th>\n",
       "      <th>pred_y</th>\n",
       "    </tr>\n",
       "  </thead>\n",
       "  <tbody>\n",
       "    <tr>\n",
       "      <th>2</th>\n",
       "      <td>32.261086</td>\n",
       "      <td>46</td>\n",
       "    </tr>\n",
       "    <tr>\n",
       "      <th>10</th>\n",
       "      <td>38.975037</td>\n",
       "      <td>56</td>\n",
       "    </tr>\n",
       "    <tr>\n",
       "      <th>19</th>\n",
       "      <td>34.158958</td>\n",
       "      <td>46</td>\n",
       "    </tr>\n",
       "    <tr>\n",
       "      <th>27</th>\n",
       "      <td>57.219250</td>\n",
       "      <td>55</td>\n",
       "    </tr>\n",
       "    <tr>\n",
       "      <th>35</th>\n",
       "      <td>55.064072</td>\n",
       "      <td>66</td>\n",
       "    </tr>\n",
       "    <tr>\n",
       "      <th>36</th>\n",
       "      <td>73.099556</td>\n",
       "      <td>56</td>\n",
       "    </tr>\n",
       "    <tr>\n",
       "      <th>38</th>\n",
       "      <td>64.353340</td>\n",
       "      <td>66</td>\n",
       "    </tr>\n",
       "    <tr>\n",
       "      <th>40</th>\n",
       "      <td>54.526451</td>\n",
       "      <td>59</td>\n",
       "    </tr>\n",
       "    <tr>\n",
       "      <th>44</th>\n",
       "      <td>22.445341</td>\n",
       "      <td>46</td>\n",
       "    </tr>\n",
       "    <tr>\n",
       "      <th>45</th>\n",
       "      <td>39.446800</td>\n",
       "      <td>46</td>\n",
       "    </tr>\n",
       "    <tr>\n",
       "      <th>48</th>\n",
       "      <td>37.722336</td>\n",
       "      <td>46</td>\n",
       "    </tr>\n",
       "    <tr>\n",
       "      <th>53</th>\n",
       "      <td>73.434990</td>\n",
       "      <td>55</td>\n",
       "    </tr>\n",
       "    <tr>\n",
       "      <th>56</th>\n",
       "      <td>65.716286</td>\n",
       "      <td>66</td>\n",
       "    </tr>\n",
       "    <tr>\n",
       "      <th>58</th>\n",
       "      <td>42.849144</td>\n",
       "      <td>39</td>\n",
       "    </tr>\n",
       "    <tr>\n",
       "      <th>63</th>\n",
       "      <td>45.995827</td>\n",
       "      <td>39</td>\n",
       "    </tr>\n",
       "    <tr>\n",
       "      <th>66</th>\n",
       "      <td>59.863998</td>\n",
       "      <td>46</td>\n",
       "    </tr>\n",
       "    <tr>\n",
       "      <th>67</th>\n",
       "      <td>52.825947</td>\n",
       "      <td>46</td>\n",
       "    </tr>\n",
       "    <tr>\n",
       "      <th>68</th>\n",
       "      <td>67.037628</td>\n",
       "      <td>46</td>\n",
       "    </tr>\n",
       "    <tr>\n",
       "      <th>69</th>\n",
       "      <td>34.578991</td>\n",
       "      <td>39</td>\n",
       "    </tr>\n",
       "    <tr>\n",
       "      <th>79</th>\n",
       "      <td>81.642914</td>\n",
       "      <td>66</td>\n",
       "    </tr>\n",
       "    <tr>\n",
       "      <th>80</th>\n",
       "      <td>45.466282</td>\n",
       "      <td>39</td>\n",
       "    </tr>\n",
       "    <tr>\n",
       "      <th>84</th>\n",
       "      <td>49.524113</td>\n",
       "      <td>66</td>\n",
       "    </tr>\n",
       "  </tbody>\n",
       "</table>\n",
       "</div>"
      ],
      "text/plain": [
       "     actual_y  pred_y\n",
       "2   32.261086      46\n",
       "10  38.975037      56\n",
       "19  34.158958      46\n",
       "27  57.219250      55\n",
       "35  55.064072      66\n",
       "36  73.099556      56\n",
       "38  64.353340      66\n",
       "40  54.526451      59\n",
       "44  22.445341      46\n",
       "45  39.446800      46\n",
       "48  37.722336      46\n",
       "53  73.434990      55\n",
       "56  65.716286      66\n",
       "58  42.849144      39\n",
       "63  45.995827      39\n",
       "66  59.863998      46\n",
       "67  52.825947      46\n",
       "68  67.037628      46\n",
       "69  34.578991      39\n",
       "79  81.642914      66\n",
       "80  45.466282      39\n",
       "84  49.524113      66"
      ]
     },
     "execution_count": 142,
     "metadata": {},
     "output_type": "execute_result"
    }
   ],
   "source": [
    "from sklearn.linear_model import LogisticRegression\n",
    "ML2 = LogisticRegression()\n",
    "ML2.fit(x_train.astype('int'), y_train.astype('int')) # trans x_train and y_train into float to avoid unknow label problem\n",
    "pred = ML2.predict(x_test)\n",
    "pred\n",
    "# 印出預測結果\n",
    "predML2 = pd.DataFrame({'actual_y':y_test,'pred_y':pred}) \n",
    "predML2\n",
    "predML2.sort_index()"
   ]
  },
  {
   "cell_type": "markdown",
   "metadata": {},
   "source": [
    "## Step6. 衡量績效\n",
    "​\n",
    "+ 分類模型的衡量指標與迴歸模型不同，因為分類問題的猜測結果有四種情況：\n",
    "    + 真實為1, 預測為1：True Positive, TP。\n",
    "    + 真實為0, 預測為1：False Positive, FP，又稱「偽陽性」或統計學上的型一錯誤(Type I Error)。\n",
    "    + 真實為1, 預測為0：False Negative, FN)，又稱「偽陰性」或統計學上的型二錯誤(Type II Error)。\n",
    "    + 真實為0, 預測為0：True Negative, TN。\n",
    "+ 上述四種情況通常會被畫成2x2的矩陣，又稱為「混淆矩陣(Confusion Matrix)」\n",
    "+ 而分類指標的計算就圍繞著這個矩陣進行不同角度的計算(詳細請參考CH5)\n",
    "+ 通常商業決策會將混淆矩陣衍生出的指標，搭配兩種猜錯情況所造成的「成本」一併考慮，因此沒有一定要使用哪種指標。"
   ]
  },
  {
   "cell_type": "code",
   "execution_count": 143,
   "metadata": {},
   "outputs": [
    {
     "data": {
      "text/html": [
       "<div>\n",
       "<style scoped>\n",
       "    .dataframe tbody tr th:only-of-type {\n",
       "        vertical-align: middle;\n",
       "    }\n",
       "\n",
       "    .dataframe tbody tr th {\n",
       "        vertical-align: top;\n",
       "    }\n",
       "\n",
       "    .dataframe thead th {\n",
       "        text-align: right;\n",
       "    }\n",
       "</style>\n",
       "<table border=\"1\" class=\"dataframe\">\n",
       "  <thead>\n",
       "    <tr style=\"text-align: right;\">\n",
       "      <th></th>\n",
       "      <th>actual_y</th>\n",
       "      <th>pred_y</th>\n",
       "    </tr>\n",
       "  </thead>\n",
       "  <tbody>\n",
       "    <tr>\n",
       "      <th>2</th>\n",
       "      <td>0.0</td>\n",
       "      <td>0</td>\n",
       "    </tr>\n",
       "    <tr>\n",
       "      <th>10</th>\n",
       "      <td>0.0</td>\n",
       "      <td>1</td>\n",
       "    </tr>\n",
       "    <tr>\n",
       "      <th>19</th>\n",
       "      <td>0.0</td>\n",
       "      <td>0</td>\n",
       "    </tr>\n",
       "    <tr>\n",
       "      <th>27</th>\n",
       "      <td>1.0</td>\n",
       "      <td>1</td>\n",
       "    </tr>\n",
       "    <tr>\n",
       "      <th>35</th>\n",
       "      <td>1.0</td>\n",
       "      <td>1</td>\n",
       "    </tr>\n",
       "    <tr>\n",
       "      <th>36</th>\n",
       "      <td>1.0</td>\n",
       "      <td>1</td>\n",
       "    </tr>\n",
       "    <tr>\n",
       "      <th>38</th>\n",
       "      <td>1.0</td>\n",
       "      <td>1</td>\n",
       "    </tr>\n",
       "    <tr>\n",
       "      <th>40</th>\n",
       "      <td>1.0</td>\n",
       "      <td>1</td>\n",
       "    </tr>\n",
       "    <tr>\n",
       "      <th>44</th>\n",
       "      <td>0.0</td>\n",
       "      <td>0</td>\n",
       "    </tr>\n",
       "    <tr>\n",
       "      <th>45</th>\n",
       "      <td>0.0</td>\n",
       "      <td>0</td>\n",
       "    </tr>\n",
       "    <tr>\n",
       "      <th>48</th>\n",
       "      <td>0.0</td>\n",
       "      <td>0</td>\n",
       "    </tr>\n",
       "    <tr>\n",
       "      <th>53</th>\n",
       "      <td>1.0</td>\n",
       "      <td>1</td>\n",
       "    </tr>\n",
       "    <tr>\n",
       "      <th>56</th>\n",
       "      <td>1.0</td>\n",
       "      <td>1</td>\n",
       "    </tr>\n",
       "    <tr>\n",
       "      <th>58</th>\n",
       "      <td>0.0</td>\n",
       "      <td>0</td>\n",
       "    </tr>\n",
       "    <tr>\n",
       "      <th>63</th>\n",
       "      <td>0.0</td>\n",
       "      <td>0</td>\n",
       "    </tr>\n",
       "    <tr>\n",
       "      <th>66</th>\n",
       "      <td>1.0</td>\n",
       "      <td>0</td>\n",
       "    </tr>\n",
       "    <tr>\n",
       "      <th>67</th>\n",
       "      <td>1.0</td>\n",
       "      <td>0</td>\n",
       "    </tr>\n",
       "    <tr>\n",
       "      <th>68</th>\n",
       "      <td>1.0</td>\n",
       "      <td>0</td>\n",
       "    </tr>\n",
       "    <tr>\n",
       "      <th>69</th>\n",
       "      <td>0.0</td>\n",
       "      <td>0</td>\n",
       "    </tr>\n",
       "    <tr>\n",
       "      <th>79</th>\n",
       "      <td>1.0</td>\n",
       "      <td>1</td>\n",
       "    </tr>\n",
       "    <tr>\n",
       "      <th>80</th>\n",
       "      <td>0.0</td>\n",
       "      <td>0</td>\n",
       "    </tr>\n",
       "    <tr>\n",
       "      <th>84</th>\n",
       "      <td>0.0</td>\n",
       "      <td>1</td>\n",
       "    </tr>\n",
       "  </tbody>\n",
       "</table>\n",
       "</div>"
      ],
      "text/plain": [
       "    actual_y  pred_y\n",
       "2        0.0       0\n",
       "10       0.0       1\n",
       "19       0.0       0\n",
       "27       1.0       1\n",
       "35       1.0       1\n",
       "36       1.0       1\n",
       "38       1.0       1\n",
       "40       1.0       1\n",
       "44       0.0       0\n",
       "45       0.0       0\n",
       "48       0.0       0\n",
       "53       1.0       1\n",
       "56       1.0       1\n",
       "58       0.0       0\n",
       "63       0.0       0\n",
       "66       1.0       0\n",
       "67       1.0       0\n",
       "68       1.0       0\n",
       "69       0.0       0\n",
       "79       1.0       1\n",
       "80       0.0       0\n",
       "84       0.0       1"
      ]
     },
     "execution_count": 143,
     "metadata": {},
     "output_type": "execute_result"
    }
   ],
   "source": [
    "# Recode preML2\n",
    "def dummy(predML2): # 自行定義一個分類的function\n",
    "    predML2.loc[(predML2['actual_y'] > 0) & (predML2['actual_y'] < 50), 'actual_y'] = 0\n",
    "    predML2.loc[predML2['actual_y'] >= 50, 'actual_y'] = 1\n",
    "    return predML2\n",
    "dummy(predML2)\n",
    "\n",
    "def dummy(predML2): # 自行定義一個分類的function\n",
    "    predML2.loc[(predML2['pred_y'] > 0) & (predML2['pred_y'] < 50), 'pred_y'] = 0\n",
    "    predML2.loc[predML2['pred_y'] >= 50, 'pred_y'] = 1\n",
    "    return predML2\n",
    "dummy(predML2)\n",
    "\n",
    "predML2.sort_index()"
   ]
  },
  {
   "cell_type": "code",
   "execution_count": 144,
   "metadata": {},
   "outputs": [
    {
     "data": {
      "text/html": [
       "<div>\n",
       "<style scoped>\n",
       "    .dataframe tbody tr th:only-of-type {\n",
       "        vertical-align: middle;\n",
       "    }\n",
       "\n",
       "    .dataframe tbody tr th {\n",
       "        vertical-align: top;\n",
       "    }\n",
       "\n",
       "    .dataframe thead th {\n",
       "        text-align: right;\n",
       "    }\n",
       "</style>\n",
       "<table border=\"1\" class=\"dataframe\">\n",
       "  <thead>\n",
       "    <tr style=\"text-align: right;\">\n",
       "      <th></th>\n",
       "      <th>預測為0</th>\n",
       "      <th>預測為1</th>\n",
       "    </tr>\n",
       "  </thead>\n",
       "  <tbody>\n",
       "    <tr>\n",
       "      <th>真實為0</th>\n",
       "      <td>9</td>\n",
       "      <td>2</td>\n",
       "    </tr>\n",
       "    <tr>\n",
       "      <th>真實為1</th>\n",
       "      <td>3</td>\n",
       "      <td>8</td>\n",
       "    </tr>\n",
       "  </tbody>\n",
       "</table>\n",
       "</div>"
      ],
      "text/plain": [
       "      預測為0  預測為1\n",
       "真實為0     9     2\n",
       "真實為1     3     8"
      ]
     },
     "execution_count": 144,
     "metadata": {},
     "output_type": "execute_result"
    }
   ],
   "source": [
    "# 載入分類模型的衡量指標套件\n",
    "from sklearn.metrics import accuracy_score, confusion_matrix, roc_curve, auc, roc_auc_score, precision_score, recall_score, f1_score\n",
    "cm = confusion_matrix(predML1['actual_y'], predML1['pred_y'])\n",
    "cm # check the matrix\n",
    "pd.DataFrame({'預測為0': cm[:,0], '預測為1': cm[:,1]}, index=['真實為0','真實為1']) "
   ]
  },
  {
   "cell_type": "code",
   "execution_count": 136,
   "metadata": {},
   "outputs": [
    {
     "name": "stdout",
     "output_type": "stream",
     "text": [
      "True Positive Rate(TPR): 0.7273\n",
      "False Negative Rate(FNR): 0.2727\n",
      "Accuracy: 0.7727\n"
     ]
    }
   ],
   "source": [
    "print(f'True Positive Rate(TPR): {round(cm[1][1]/(cm[1][1]+cm[1][0]), 4)}') # 521/(521+845)\n",
    "print(f'False Negative Rate(FNR): {round(cm[1][0]/(cm[1][0]+cm[1][1]), 4)}') # 845/(845+521)\n",
    "print(f'Accuracy: {(round( ((cm[0][0]+cm[1][1]) / (cm[0][0]+cm[0][1]+cm[1][0]+cm[1][1])) , 4))}') # (521+10731)/(521+10731+260+845))"
   ]
  },
  {
   "cell_type": "code",
   "execution_count": 141,
   "metadata": {},
   "outputs": [
    {
     "data": {
      "text/html": [
       "<div>\n",
       "<style scoped>\n",
       "    .dataframe tbody tr th:only-of-type {\n",
       "        vertical-align: middle;\n",
       "    }\n",
       "\n",
       "    .dataframe tbody tr th {\n",
       "        vertical-align: top;\n",
       "    }\n",
       "\n",
       "    .dataframe thead th {\n",
       "        text-align: right;\n",
       "    }\n",
       "</style>\n",
       "<table border=\"1\" class=\"dataframe\">\n",
       "  <thead>\n",
       "    <tr style=\"text-align: right;\">\n",
       "      <th></th>\n",
       "      <th>Accuracy</th>\n",
       "      <th>Precision</th>\n",
       "      <th>Recall</th>\n",
       "      <th>F1</th>\n",
       "    </tr>\n",
       "  </thead>\n",
       "  <tbody>\n",
       "    <tr>\n",
       "      <th>value</th>\n",
       "      <td>0.772727</td>\n",
       "      <td>0.8</td>\n",
       "      <td>0.727273</td>\n",
       "      <td>0.761905</td>\n",
       "    </tr>\n",
       "  </tbody>\n",
       "</table>\n",
       "</div>"
      ],
      "text/plain": [
       "       Accuracy  Precision    Recall        F1\n",
       "value  0.772727        0.8  0.727273  0.761905"
      ]
     },
     "execution_count": 141,
     "metadata": {},
     "output_type": "execute_result"
    }
   ],
   "source": [
    "# 印出常見指標的分數(由混淆矩陣衍生)\n",
    "pd.DataFrame({'Accuracy': accuracy_score(predML1['actual_y'], predML1['pred_y']), 'Precision': precision_score(predML1['actual_y'], predML1['pred_y']), 'Recall': recall_score(predML1['actual_y'], predML1['pred_y']), 'F1': f1_score(predML1['actual_y'], predML1['pred_y'])}, index=['value'])"
   ]
  },
  {
   "cell_type": "markdown",
   "metadata": {},
   "source": [
    "## Q11. & Q12. KNN\n",
    "接下來將使用K-近鄰演算法(KNeighbors, KNN)來做預測，比較預測結果的差異。記得一樣要先除去空值，所使用資料跟條件也均跟前面題目相同：random_state均設為1。"
   ]
  },
  {
   "cell_type": "markdown",
   "metadata": {},
   "source": [
    "## Q11. Housing.csv with KNN"
   ]
  },
  {
   "cell_type": "code",
   "execution_count": 145,
   "metadata": {},
   "outputs": [],
   "source": [
    "## predict housing data\n",
    "x_train, x_test, y_train, y_test = train_test_split(housingx, housingy, # x,y\n",
    "                                                    test_size=0.35, \n",
    "                                                    random_state=1) # 設定seed，固定每次的訓練結果"
   ]
  },
  {
   "cell_type": "code",
   "execution_count": 146,
   "metadata": {},
   "outputs": [
    {
     "name": "stdout",
     "output_type": "stream",
     "text": [
      "x_train: (13281, 6)\n",
      "y_train: (13281,)\n",
      "x_test: (7152, 6)\n",
      "y_test: (7152,)\n"
     ]
    }
   ],
   "source": [
    "# 檢查分割後的形狀\n",
    "print('x_train:', x_train.shape)\n",
    "print('y_train:', y_train.shape)\n",
    "print('x_test:', x_test.shape)\n",
    "print('y_test:', y_test.shape)"
   ]
  },
  {
   "cell_type": "code",
   "execution_count": 149,
   "metadata": {},
   "outputs": [
    {
     "data": {
      "text/html": [
       "<div>\n",
       "<style scoped>\n",
       "    .dataframe tbody tr th:only-of-type {\n",
       "        vertical-align: middle;\n",
       "    }\n",
       "\n",
       "    .dataframe tbody tr th {\n",
       "        vertical-align: top;\n",
       "    }\n",
       "\n",
       "    .dataframe thead th {\n",
       "        text-align: right;\n",
       "    }\n",
       "</style>\n",
       "<table border=\"1\" class=\"dataframe\">\n",
       "  <thead>\n",
       "    <tr style=\"text-align: right;\">\n",
       "      <th></th>\n",
       "      <th>R-square</th>\n",
       "      <th>MAE</th>\n",
       "      <th>MSE</th>\n",
       "      <th>RMSE</th>\n",
       "    </tr>\n",
       "  </thead>\n",
       "  <tbody>\n",
       "    <tr>\n",
       "      <th>value</th>\n",
       "      <td>0.255027</td>\n",
       "      <td>77630.82981</td>\n",
       "      <td>1.020513e+10</td>\n",
       "      <td>101020.418797</td>\n",
       "    </tr>\n",
       "  </tbody>\n",
       "</table>\n",
       "</div>"
      ],
      "text/plain": [
       "       R-square          MAE           MSE           RMSE\n",
       "value  0.255027  77630.82981  1.020513e+10  101020.418797"
      ]
     },
     "execution_count": 149,
     "metadata": {},
     "output_type": "execute_result"
    }
   ],
   "source": [
    "from sklearn.neighbors import KNeighborsRegressor\n",
    "KNN1 = KNeighborsRegressor()\n",
    "KNN1.fit(x_train, y_train)\n",
    "pred3 = KNN1.predict(x_test)\n",
    "\n",
    "pd.DataFrame({'R-square': r2_score(y_test, pred3), 'MAE': mean_absolute_error(y_test, pred3), 'MSE': mean_squared_error(y_test, pred3), 'RMSE': mean_squared_error(y_test, pred3, squared=False)}, index=['value'])"
   ]
  },
  {
   "cell_type": "markdown",
   "metadata": {},
   "source": [
    "## Q12. Candy_data with KNN"
   ]
  },
  {
   "cell_type": "code",
   "execution_count": 179,
   "metadata": {},
   "outputs": [
    {
     "name": "stdout",
     "output_type": "stream",
     "text": [
      "x_train: (63, 11)\n",
      "y_train: (63,)\n",
      "x_test: (22, 11)\n",
      "y_test: (22,)\n"
     ]
    },
    {
     "data": {
      "text/plain": [
       "38    64.353340\n",
       "44    22.445341\n",
       "27    57.219250\n",
       "40    54.526451\n",
       "36    73.099556\n",
       "80    45.466282\n",
       "58    42.849144\n",
       "69    34.578991\n",
       "84    49.524113\n",
       "56    65.716286\n",
       "67    52.825947\n",
       "53    73.434990\n",
       "48    37.722336\n",
       "66    59.863998\n",
       "63    45.995827\n",
       "10    38.975037\n",
       "2     32.261086\n",
       "35    55.064072\n",
       "68    67.037628\n",
       "45    39.446800\n",
       "19    34.158958\n",
       "79    81.642914\n",
       "Name: winpercent, dtype: float64"
      ]
     },
     "execution_count": 179,
     "metadata": {},
     "output_type": "execute_result"
    }
   ],
   "source": [
    "# 將資料切成訓練組與測試組\n",
    "x_train, x_test, y_train, y_test = train_test_split(candyx, candyy, # x,y\n",
    "                                                    test_size=0.25, \n",
    "                                                    random_state=1) # 設定seed，固定每次的訓練結果\n",
    "# 檢查分割後的形狀\n",
    "print('x_train:', x_train.shape)\n",
    "print('y_train:', y_train.shape)\n",
    "print('x_test:', x_test.shape)\n",
    "print('y_test:', y_test.shape)"
   ]
  },
  {
   "cell_type": "code",
   "execution_count": 181,
   "metadata": {},
   "outputs": [
    {
     "data": {
      "text/plain": [
       "0     66\n",
       "1     39\n",
       "2     37\n",
       "3     66\n",
       "4     66\n",
       "5     39\n",
       "6     39\n",
       "7     39\n",
       "8     66\n",
       "9     34\n",
       "10    39\n",
       "11    37\n",
       "12    46\n",
       "13    39\n",
       "14    39\n",
       "15    66\n",
       "16    39\n",
       "17    34\n",
       "18    39\n",
       "19    39\n",
       "20    46\n",
       "21    66\n",
       "dtype: int32"
      ]
     },
     "execution_count": 181,
     "metadata": {},
     "output_type": "execute_result"
    }
   ],
   "source": [
    "from sklearn.neighbors import KNeighborsClassifier\n",
    "\n",
    "KNN2 = KNeighborsClassifier(n_neighbors=27) # 設定K值 \n",
    "KNN2.fit(x_train.astype('int'), y_train.astype('int'))\n",
    "pred4 = KNN2.predict(x_test)\n",
    "pred4 = pd.Series(pred4)\n",
    "pred4"
   ]
  },
  {
   "cell_type": "code",
   "execution_count": 182,
   "metadata": {},
   "outputs": [
    {
     "data": {
      "text/plain": [
       "0     1\n",
       "1     0\n",
       "2     0\n",
       "3     1\n",
       "4     1\n",
       "5     0\n",
       "6     0\n",
       "7     0\n",
       "8     1\n",
       "9     0\n",
       "10    0\n",
       "11    0\n",
       "12    0\n",
       "13    0\n",
       "14    0\n",
       "15    1\n",
       "16    0\n",
       "17    0\n",
       "18    0\n",
       "19    0\n",
       "20    0\n",
       "21    1\n",
       "dtype: int32"
      ]
     },
     "execution_count": 182,
     "metadata": {},
     "output_type": "execute_result"
    }
   ],
   "source": [
    "# Recode y_test to dummy variable\n",
    "def dummy(y_test): # 自行定義一個分類的function\n",
    "    y_test.loc[(y_test > 0) & (y_test < 50)] = 0\n",
    "    y_test.loc[y_test >= 50] = 1\n",
    "    return y_test\n",
    "dummy(y_test)\n",
    "\n",
    "# Recode pred4 to dummy variable\n",
    "def dummy(pred4): # 自行定義一個分類的function\n",
    "    pred4.loc[(pred4 > 0) & (pred4 < 50)] = 0\n",
    "    pred4.loc[pred4 >= 50] = 1\n",
    "    return pred4\n",
    "dummy(pred4)"
   ]
  },
  {
   "cell_type": "code",
   "execution_count": 183,
   "metadata": {},
   "outputs": [
    {
     "data": {
      "text/html": [
       "<div>\n",
       "<style scoped>\n",
       "    .dataframe tbody tr th:only-of-type {\n",
       "        vertical-align: middle;\n",
       "    }\n",
       "\n",
       "    .dataframe tbody tr th {\n",
       "        vertical-align: top;\n",
       "    }\n",
       "\n",
       "    .dataframe thead th {\n",
       "        text-align: right;\n",
       "    }\n",
       "</style>\n",
       "<table border=\"1\" class=\"dataframe\">\n",
       "  <thead>\n",
       "    <tr style=\"text-align: right;\">\n",
       "      <th></th>\n",
       "      <th>Accuracy</th>\n",
       "      <th>AUC</th>\n",
       "      <th>Precision</th>\n",
       "      <th>Recall</th>\n",
       "      <th>F1</th>\n",
       "    </tr>\n",
       "  </thead>\n",
       "  <tbody>\n",
       "    <tr>\n",
       "      <th>value</th>\n",
       "      <td>0.590909</td>\n",
       "      <td>0.590909</td>\n",
       "      <td>0.666667</td>\n",
       "      <td>0.363636</td>\n",
       "      <td>0.470588</td>\n",
       "    </tr>\n",
       "  </tbody>\n",
       "</table>\n",
       "</div>"
      ],
      "text/plain": [
       "       Accuracy       AUC  Precision    Recall        F1\n",
       "value  0.590909  0.590909   0.666667  0.363636  0.470588"
      ]
     },
     "execution_count": 183,
     "metadata": {},
     "output_type": "execute_result"
    }
   ],
   "source": [
    "# 印出常見指標的分數\n",
    "fpr, tpr, thresholds = roc_curve(y_test, pred4) # 由於KNN的model沒有decision_function()，不能使用roc_auc_score計算他的AUC，因此這邊換了一種AUC的計算方式\n",
    "pd.DataFrame({'Accuracy': accuracy_score(y_test.astype('int'), pred4), 'AUC': auc(fpr, tpr), 'Precision': precision_score(y_test, pred4), 'Recall': recall_score(y_test, pred4), 'F1': f1_score(y_test, pred4)}, index=['value'])"
   ]
  },
  {
   "cell_type": "markdown",
   "metadata": {},
   "source": [
    "## Q13. & Q14. Decision Tree\n",
    "接下來將使用決策樹 (Decision Tree)來做預測，比較預測結果的差異。所使用資料，條件以及注意事項也均跟前面題目相同，random_state均設為1，並將模型參數random_state=1加入DecisionTreeRegressor()內。"
   ]
  },
  {
   "cell_type": "markdown",
   "metadata": {},
   "source": [
    "## Q13. housing.csv with Decision Tree"
   ]
  },
  {
   "cell_type": "code",
   "execution_count": 184,
   "metadata": {},
   "outputs": [],
   "source": [
    "## predict housing data\n",
    "x_train, x_test, y_train, y_test = train_test_split(housingx, housingy, # x,y\n",
    "                                                    test_size=0.35, \n",
    "                                                    random_state=1) # 設定seed，固定每次的訓練結果"
   ]
  },
  {
   "cell_type": "code",
   "execution_count": 185,
   "metadata": {},
   "outputs": [
    {
     "name": "stdout",
     "output_type": "stream",
     "text": [
      "x_train: (13281, 6)\n",
      "y_train: (13281,)\n",
      "x_test: (7152, 6)\n",
      "y_test: (7152,)\n"
     ]
    }
   ],
   "source": [
    "# 檢查分割後的形狀\n",
    "print('x_train:', x_train.shape)\n",
    "print('y_train:', y_train.shape)\n",
    "print('x_test:', x_test.shape)\n",
    "print('y_test:', y_test.shape)"
   ]
  },
  {
   "cell_type": "code",
   "execution_count": 188,
   "metadata": {},
   "outputs": [
    {
     "data": {
      "text/html": [
       "<div>\n",
       "<style scoped>\n",
       "    .dataframe tbody tr th:only-of-type {\n",
       "        vertical-align: middle;\n",
       "    }\n",
       "\n",
       "    .dataframe tbody tr th {\n",
       "        vertical-align: top;\n",
       "    }\n",
       "\n",
       "    .dataframe thead th {\n",
       "        text-align: right;\n",
       "    }\n",
       "</style>\n",
       "<table border=\"1\" class=\"dataframe\">\n",
       "  <thead>\n",
       "    <tr style=\"text-align: right;\">\n",
       "      <th></th>\n",
       "      <th>R-square</th>\n",
       "      <th>MAE</th>\n",
       "      <th>MSE</th>\n",
       "      <th>RMSE</th>\n",
       "    </tr>\n",
       "  </thead>\n",
       "  <tbody>\n",
       "    <tr>\n",
       "      <th>value</th>\n",
       "      <td>0.354448</td>\n",
       "      <td>66288.839625</td>\n",
       "      <td>8.843201e+09</td>\n",
       "      <td>94038.296876</td>\n",
       "    </tr>\n",
       "  </tbody>\n",
       "</table>\n",
       "</div>"
      ],
      "text/plain": [
       "       R-square           MAE           MSE          RMSE\n",
       "value  0.354448  66288.839625  8.843201e+09  94038.296876"
      ]
     },
     "execution_count": 188,
     "metadata": {},
     "output_type": "execute_result"
    }
   ],
   "source": [
    "from sklearn.tree import DecisionTreeRegressor\n",
    "\n",
    "DT1 = DecisionTreeRegressor()\n",
    "DT1.fit(x_train, y_train)\n",
    "pred5 = DT1.predict(x_test)\n",
    "\n",
    "pd.DataFrame({'R-square': r2_score(y_test, pred5), 'MAE': mean_absolute_error(y_test, pred5), 'MSE': mean_squared_error(y_test, pred5), 'RMSE': mean_squared_error(y_test, pred5, squared=False)}, index=['value'])"
   ]
  },
  {
   "cell_type": "markdown",
   "metadata": {},
   "source": [
    "## Q14. candy_data with Decision Tree"
   ]
  },
  {
   "cell_type": "code",
   "execution_count": 206,
   "metadata": {},
   "outputs": [
    {
     "name": "stdout",
     "output_type": "stream",
     "text": [
      "x_train: (63, 11)\n",
      "y_train: (63,)\n",
      "x_test: (22, 11)\n",
      "y_test: (22,)\n"
     ]
    }
   ],
   "source": [
    "# 將資料切成訓練組與測試組\n",
    "x_train, x_test, y_train, y_test = train_test_split(candyx, candyy, # x,y\n",
    "                                                    test_size=0.25, \n",
    "                                                    random_state=1) # 設定seed，固定每次的訓練結果\n",
    "# 檢查分割後的形狀\n",
    "print('x_train:', x_train.shape)\n",
    "print('y_train:', y_train.shape)\n",
    "print('x_test:', x_test.shape)\n",
    "print('y_test:', y_test.shape)"
   ]
  },
  {
   "cell_type": "markdown",
   "metadata": {},
   "source": [
    "### (1) With max_depth 2"
   ]
  },
  {
   "cell_type": "code",
   "execution_count": 210,
   "metadata": {},
   "outputs": [
    {
     "data": {
      "text/plain": [
       "0     56\n",
       "1     34\n",
       "2     34\n",
       "3     56\n",
       "4     56\n",
       "5     34\n",
       "6     28\n",
       "7     28\n",
       "8     34\n",
       "9     34\n",
       "10    34\n",
       "11    34\n",
       "12    34\n",
       "13    34\n",
       "14    28\n",
       "15    56\n",
       "16    34\n",
       "17    34\n",
       "18    34\n",
       "19    34\n",
       "20    34\n",
       "21    56\n",
       "dtype: int32"
      ]
     },
     "execution_count": 210,
     "metadata": {},
     "output_type": "execute_result"
    }
   ],
   "source": [
    "from sklearn.tree import DecisionTreeClassifier\n",
    "\n",
    "DT2_1 = DecisionTreeClassifier(max_depth=2) # 裡面還有很多函數可以設定，這邊我們只先調整樹的深度。\n",
    "DT2_1.fit(x_train.astype('int'), y_train.astype('int'))\n",
    "pred5 = DT2_1.predict(x_test)\n",
    "pred5 = pd.Series(pred5)\n",
    "pred5"
   ]
  },
  {
   "cell_type": "code",
   "execution_count": 212,
   "metadata": {},
   "outputs": [
    {
     "data": {
      "text/plain": [
       "0     1\n",
       "1     0\n",
       "2     0\n",
       "3     1\n",
       "4     1\n",
       "5     0\n",
       "6     0\n",
       "7     0\n",
       "8     0\n",
       "9     0\n",
       "10    0\n",
       "11    0\n",
       "12    0\n",
       "13    0\n",
       "14    0\n",
       "15    1\n",
       "16    0\n",
       "17    0\n",
       "18    0\n",
       "19    0\n",
       "20    0\n",
       "21    1\n",
       "dtype: int32"
      ]
     },
     "execution_count": 212,
     "metadata": {},
     "output_type": "execute_result"
    }
   ],
   "source": [
    "# Recode y_test to dummy variable\n",
    "def dummy(y_test): # 自行定義一個分類的function\n",
    "    y_test.loc[(y_test > 0) & (y_test < 50)] = 0\n",
    "    y_test.loc[y_test >= 50] = 1\n",
    "    return y_test\n",
    "dummy(y_test)\n",
    "\n",
    "# Recode pred5 to dummy variable\n",
    "def dummy(pred5): # 自行定義一個分類的function\n",
    "    pred5.loc[(pred5 > 0) & (pred5 < 50)] = 0\n",
    "    pred5.loc[pred5 >= 50] = 1\n",
    "    return pred5\n",
    "dummy(pred5)"
   ]
  },
  {
   "cell_type": "code",
   "execution_count": 218,
   "metadata": {},
   "outputs": [
    {
     "name": "stderr",
     "output_type": "stream",
     "text": [
      "C:\\Users\\user\\anaconda3\\lib\\site-packages\\sklearn\\metrics\\_ranking.py:949: UndefinedMetricWarning: No positive samples in y_true, true positive value should be meaningless\n",
      "  warnings.warn(\"No positive samples in y_true, \"\n",
      "C:\\Users\\user\\anaconda3\\lib\\site-packages\\sklearn\\metrics\\_classification.py:1245: UndefinedMetricWarning: Recall is ill-defined and being set to 0.0 due to no true samples. Use `zero_division` parameter to control this behavior.\n",
      "  _warn_prf(average, modifier, msg_start, len(result))\n"
     ]
    },
    {
     "data": {
      "text/html": [
       "<div>\n",
       "<style scoped>\n",
       "    .dataframe tbody tr th:only-of-type {\n",
       "        vertical-align: middle;\n",
       "    }\n",
       "\n",
       "    .dataframe tbody tr th {\n",
       "        vertical-align: top;\n",
       "    }\n",
       "\n",
       "    .dataframe thead th {\n",
       "        text-align: right;\n",
       "    }\n",
       "</style>\n",
       "<table border=\"1\" class=\"dataframe\">\n",
       "  <thead>\n",
       "    <tr style=\"text-align: right;\">\n",
       "      <th></th>\n",
       "      <th>Accuracy</th>\n",
       "      <th>AUC</th>\n",
       "      <th>Precision</th>\n",
       "      <th>Recall</th>\n",
       "      <th>F1</th>\n",
       "    </tr>\n",
       "  </thead>\n",
       "  <tbody>\n",
       "    <tr>\n",
       "      <th>value</th>\n",
       "      <td>0.772727</td>\n",
       "      <td>NaN</td>\n",
       "      <td>0.0</td>\n",
       "      <td>0.0</td>\n",
       "      <td>0.0</td>\n",
       "    </tr>\n",
       "  </tbody>\n",
       "</table>\n",
       "</div>"
      ],
      "text/plain": [
       "       Accuracy  AUC  Precision  Recall   F1\n",
       "value  0.772727  NaN        0.0     0.0  0.0"
      ]
     },
     "execution_count": 218,
     "metadata": {},
     "output_type": "execute_result"
    }
   ],
   "source": [
    "cm = confusion_matrix(y_test, pred5)         # 混淆矩陣\n",
    "cm\n",
    "fpr, tpr, thresholds = roc_curve(y_test, pred5) \n",
    "pd.DataFrame({'Accuracy': accuracy_score(y_test.astype('int'), pred5), 'AUC': auc(fpr, tpr), 'Precision': precision_score(y_test, pred5), 'Recall': recall_score(y_test, pred5), 'F1': f1_score(y_test, pred5)}, index=['value'])"
   ]
  },
  {
   "cell_type": "markdown",
   "metadata": {},
   "source": [
    "### (2) With max_depth 7"
   ]
  },
  {
   "cell_type": "code",
   "execution_count": 219,
   "metadata": {},
   "outputs": [
    {
     "data": {
      "text/plain": [
       "0     47\n",
       "1     42\n",
       "2     34\n",
       "3     50\n",
       "4     60\n",
       "5     52\n",
       "6     28\n",
       "7     28\n",
       "8     34\n",
       "9     33\n",
       "10    42\n",
       "11    69\n",
       "12    38\n",
       "13    42\n",
       "14    28\n",
       "15    67\n",
       "16    46\n",
       "17    33\n",
       "18    42\n",
       "19    42\n",
       "20    38\n",
       "21    66\n",
       "dtype: int32"
      ]
     },
     "execution_count": 219,
     "metadata": {},
     "output_type": "execute_result"
    }
   ],
   "source": [
    "from sklearn.tree import DecisionTreeClassifier\n",
    "\n",
    "DT2_2 = DecisionTreeClassifier(max_depth=7) # 裡面還有很多函數可以設定，這邊我們只先調整樹的深度。\n",
    "DT2_2.fit(x_train.astype('int'), y_train.astype('int'))\n",
    "pred6 = DT2_2.predict(x_test)\n",
    "pred6 = pd.Series(pred6)\n",
    "pred6"
   ]
  },
  {
   "cell_type": "code",
   "execution_count": 220,
   "metadata": {},
   "outputs": [
    {
     "data": {
      "text/plain": [
       "0     0\n",
       "1     0\n",
       "2     0\n",
       "3     1\n",
       "4     1\n",
       "5     1\n",
       "6     0\n",
       "7     0\n",
       "8     0\n",
       "9     0\n",
       "10    0\n",
       "11    1\n",
       "12    0\n",
       "13    0\n",
       "14    0\n",
       "15    1\n",
       "16    0\n",
       "17    0\n",
       "18    0\n",
       "19    0\n",
       "20    0\n",
       "21    1\n",
       "dtype: int32"
      ]
     },
     "execution_count": 220,
     "metadata": {},
     "output_type": "execute_result"
    }
   ],
   "source": [
    "# Recode y_test to dummy variable\n",
    "def dummy(y_test): # 自行定義一個分類的function\n",
    "    y_test.loc[(y_test > 0) & (y_test < 50)] = 0\n",
    "    y_test.loc[y_test >= 50] = 1\n",
    "    return y_test\n",
    "dummy(y_test)\n",
    "\n",
    "# Recode pred5 to dummy variable\n",
    "def dummy(pred6): # 自行定義一個分類的function\n",
    "    pred6.loc[(pred6 > 0) & (pred6 < 50)] = 0\n",
    "    pred6.loc[pred6 >= 50] = 1\n",
    "    return pred6\n",
    "dummy(pred6)"
   ]
  },
  {
   "cell_type": "code",
   "execution_count": 221,
   "metadata": {},
   "outputs": [
    {
     "name": "stderr",
     "output_type": "stream",
     "text": [
      "C:\\Users\\user\\anaconda3\\lib\\site-packages\\sklearn\\metrics\\_ranking.py:949: UndefinedMetricWarning: No positive samples in y_true, true positive value should be meaningless\n",
      "  warnings.warn(\"No positive samples in y_true, \"\n",
      "C:\\Users\\user\\anaconda3\\lib\\site-packages\\sklearn\\metrics\\_classification.py:1245: UndefinedMetricWarning: Recall is ill-defined and being set to 0.0 due to no true samples. Use `zero_division` parameter to control this behavior.\n",
      "  _warn_prf(average, modifier, msg_start, len(result))\n"
     ]
    },
    {
     "data": {
      "text/html": [
       "<div>\n",
       "<style scoped>\n",
       "    .dataframe tbody tr th:only-of-type {\n",
       "        vertical-align: middle;\n",
       "    }\n",
       "\n",
       "    .dataframe tbody tr th {\n",
       "        vertical-align: top;\n",
       "    }\n",
       "\n",
       "    .dataframe thead th {\n",
       "        text-align: right;\n",
       "    }\n",
       "</style>\n",
       "<table border=\"1\" class=\"dataframe\">\n",
       "  <thead>\n",
       "    <tr style=\"text-align: right;\">\n",
       "      <th></th>\n",
       "      <th>Accuracy</th>\n",
       "      <th>AUC</th>\n",
       "      <th>Precision</th>\n",
       "      <th>Recall</th>\n",
       "      <th>F1</th>\n",
       "    </tr>\n",
       "  </thead>\n",
       "  <tbody>\n",
       "    <tr>\n",
       "      <th>value</th>\n",
       "      <td>0.727273</td>\n",
       "      <td>NaN</td>\n",
       "      <td>0.0</td>\n",
       "      <td>0.0</td>\n",
       "      <td>0.0</td>\n",
       "    </tr>\n",
       "  </tbody>\n",
       "</table>\n",
       "</div>"
      ],
      "text/plain": [
       "       Accuracy  AUC  Precision  Recall   F1\n",
       "value  0.727273  NaN        0.0     0.0  0.0"
      ]
     },
     "execution_count": 221,
     "metadata": {},
     "output_type": "execute_result"
    }
   ],
   "source": [
    "cm = confusion_matrix(y_test, pred6)         # 混淆矩陣\n",
    "cm\n",
    "fpr, tpr, thresholds = roc_curve(y_test, pred6) \n",
    "pd.DataFrame({'Accuracy': accuracy_score(y_test.astype('int'), pred6), 'AUC': auc(fpr, tpr), 'Precision': precision_score(y_test, pred6), 'Recall': recall_score(y_test, pred6), 'F1': f1_score(y_test, pred6)}, index=['value'])"
   ]
  },
  {
   "cell_type": "code",
   "execution_count": null,
   "metadata": {},
   "outputs": [],
   "source": []
  }
 ],
 "metadata": {
  "kernelspec": {
   "display_name": "Python 3",
   "language": "python",
   "name": "python3"
  },
  "language_info": {
   "codemirror_mode": {
    "name": "ipython",
    "version": 3
   },
   "file_extension": ".py",
   "mimetype": "text/x-python",
   "name": "python",
   "nbconvert_exporter": "python",
   "pygments_lexer": "ipython3",
   "version": "3.8.5"
  }
 },
 "nbformat": 4,
 "nbformat_minor": 5
}
